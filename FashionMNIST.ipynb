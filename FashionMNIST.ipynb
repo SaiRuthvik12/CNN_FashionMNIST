{
 "cells": [
  {
   "cell_type": "code",
   "execution_count": 1,
   "metadata": {},
   "outputs": [],
   "source": [
    "import pandas as pd\n",
    "import numpy as np\n",
    "import tensorflow.keras\n",
    "from tensorflow.keras.datasets import fashion_mnist\n",
    "from tensorflow.keras.utils import to_categorical\n",
    "from tensorflow.keras.models import Sequential\n",
    "from tensorflow.keras.layers import Conv2D\n",
    "from tensorflow.keras.layers import MaxPooling2D\n",
    "from tensorflow.keras.layers import Dense\n",
    "from tensorflow.keras.layers import Flatten\n",
    "from tensorflow.keras.optimizers import Adam"
   ]
  },
  {
   "cell_type": "code",
   "execution_count": 2,
   "metadata": {},
   "outputs": [
    {
     "name": "stdout",
     "output_type": "stream",
     "text": [
      "Downloading data from https://storage.googleapis.com/tensorflow/tf-keras-datasets/train-labels-idx1-ubyte.gz\n",
      "32768/29515 [=================================] - 0s 0us/step\n",
      "Downloading data from https://storage.googleapis.com/tensorflow/tf-keras-datasets/train-images-idx3-ubyte.gz\n",
      "26427392/26421880 [==============================] - 4s 0us/step\n",
      "Downloading data from https://storage.googleapis.com/tensorflow/tf-keras-datasets/t10k-labels-idx1-ubyte.gz\n",
      "8192/5148 [===============================================] - 0s 0us/step\n",
      "Downloading data from https://storage.googleapis.com/tensorflow/tf-keras-datasets/t10k-images-idx3-ubyte.gz\n",
      "4423680/4422102 [==============================] - 1s 0us/step\n"
     ]
    }
   ],
   "source": [
    "(x_train,y_train),(x_test,y_test) = fashion_mnist.load_data()"
   ]
  },
  {
   "cell_type": "code",
   "execution_count": 3,
   "metadata": {},
   "outputs": [],
   "source": [
    "y_train = to_categorical(y_train)\n",
    "y_test = to_categorical(y_test)"
   ]
  },
  {
   "cell_type": "code",
   "execution_count": 4,
   "metadata": {},
   "outputs": [],
   "source": [
    "x_train = x_train.astype('float32')\n",
    "x_test = x_test.astype('float32')\n",
    "x_train = x_train/255.0\n",
    "x_test = x_test/255.0"
   ]
  },
  {
   "cell_type": "code",
   "execution_count": 5,
   "metadata": {},
   "outputs": [],
   "source": [
    "x_train = x_train.reshape(60000, 28, 28,1)\n",
    "x_test = x_test.reshape(10000, 28, 28,1)"
   ]
  },
  {
   "cell_type": "code",
   "execution_count": 7,
   "metadata": {},
   "outputs": [],
   "source": [
    "model = Sequential()\n",
    "model.add(Conv2D(32,kernel_size=3,activation='relu',input_shape=(28,28,1)))\n",
    "model.add(MaxPooling2D(pool_size=2,strides=2))\n",
    "model.add(Conv2D(64,kernel_size=3,activation='relu'))\n",
    "model.add(MaxPooling2D(pool_size=2,strides=2))\n",
    "model.add(Conv2D(128,kernel_size=3,activation='relu'))\n",
    "model.add(MaxPooling2D(pool_size=2,strides=2))\n",
    "model.add(Flatten())\n",
    "model.add(Dense(128,activation='relu'))\n",
    "model.add(Dense(10,activation='softmax'))"
   ]
  },
  {
   "cell_type": "code",
   "execution_count": 8,
   "metadata": {},
   "outputs": [],
   "source": [
    "adam = Adam(learning_rate=0.001)\n",
    "model.compile(optimizer = adam, loss='categorical_crossentropy',metrics = ['accuracy'])"
   ]
  },
  {
   "cell_type": "code",
   "execution_count": 10,
   "metadata": {},
   "outputs": [
    {
     "name": "stdout",
     "output_type": "stream",
     "text": [
      "Epoch 1/50\n",
      "1875/1875 [==============================] - 16s 5ms/step - loss: 0.5796 - accuracy: 0.7864 - val_loss: 0.4548 - val_accuracy: 0.8415\n",
      "Epoch 2/50\n",
      "1875/1875 [==============================] - 9s 5ms/step - loss: 0.3859 - accuracy: 0.8568 - val_loss: 0.4194 - val_accuracy: 0.8439\n",
      "Epoch 3/50\n",
      "1875/1875 [==============================] - 9s 5ms/step - loss: 0.3293 - accuracy: 0.8780 - val_loss: 0.3473 - val_accuracy: 0.8702\n",
      "Epoch 4/50\n",
      "1875/1875 [==============================] - 9s 5ms/step - loss: 0.2927 - accuracy: 0.8917 - val_loss: 0.3307 - val_accuracy: 0.8808\n",
      "Epoch 5/50\n",
      "1875/1875 [==============================] - 9s 5ms/step - loss: 0.2647 - accuracy: 0.9005 - val_loss: 0.3214 - val_accuracy: 0.8816\n",
      "Epoch 6/50\n",
      "1875/1875 [==============================] - 9s 5ms/step - loss: 0.2405 - accuracy: 0.9102 - val_loss: 0.3146 - val_accuracy: 0.8901\n",
      "Epoch 7/50\n",
      "1875/1875 [==============================] - 9s 5ms/step - loss: 0.2221 - accuracy: 0.9161 - val_loss: 0.3100 - val_accuracy: 0.8928\n",
      "Epoch 8/50\n",
      "1875/1875 [==============================] - 9s 5ms/step - loss: 0.2024 - accuracy: 0.9244 - val_loss: 0.3294 - val_accuracy: 0.8922\n",
      "Epoch 9/50\n",
      "1875/1875 [==============================] - 9s 5ms/step - loss: 0.1852 - accuracy: 0.9305 - val_loss: 0.3236 - val_accuracy: 0.8936\n",
      "Epoch 10/50\n",
      "1875/1875 [==============================] - 9s 5ms/step - loss: 0.1731 - accuracy: 0.9348 - val_loss: 0.3289 - val_accuracy: 0.8939\n",
      "Epoch 11/50\n",
      "1875/1875 [==============================] - 9s 5ms/step - loss: 0.1592 - accuracy: 0.9397 - val_loss: 0.3460 - val_accuracy: 0.8941\n",
      "Epoch 12/50\n",
      "1875/1875 [==============================] - 9s 5ms/step - loss: 0.1455 - accuracy: 0.9451 - val_loss: 0.3322 - val_accuracy: 0.8904\n",
      "Epoch 13/50\n",
      "1875/1875 [==============================] - 9s 5ms/step - loss: 0.1341 - accuracy: 0.9492 - val_loss: 0.3656 - val_accuracy: 0.8854\n",
      "Epoch 14/50\n",
      "1875/1875 [==============================] - 11s 6ms/step - loss: 0.1237 - accuracy: 0.9543 - val_loss: 0.3705 - val_accuracy: 0.8901\n",
      "Epoch 15/50\n",
      "1875/1875 [==============================] - 9s 5ms/step - loss: 0.1192 - accuracy: 0.9545 - val_loss: 0.3875 - val_accuracy: 0.8945\n",
      "Epoch 16/50\n",
      "1875/1875 [==============================] - 10s 5ms/step - loss: 0.1070 - accuracy: 0.9602 - val_loss: 0.4036 - val_accuracy: 0.8925\n",
      "Epoch 17/50\n",
      "1875/1875 [==============================] - 9s 5ms/step - loss: 0.1002 - accuracy: 0.9617 - val_loss: 0.4730 - val_accuracy: 0.8902\n",
      "Epoch 18/50\n",
      "1875/1875 [==============================] - 10s 5ms/step - loss: 0.0956 - accuracy: 0.9634 - val_loss: 0.4477 - val_accuracy: 0.8941\n",
      "Epoch 19/50\n",
      "1875/1875 [==============================] - 10s 5ms/step - loss: 0.0886 - accuracy: 0.9667 - val_loss: 0.4475 - val_accuracy: 0.8877\n",
      "Epoch 20/50\n",
      "1875/1875 [==============================] - 10s 5ms/step - loss: 0.0842 - accuracy: 0.9680 - val_loss: 0.4707 - val_accuracy: 0.8919\n",
      "Epoch 21/50\n",
      "1875/1875 [==============================] - 9s 5ms/step - loss: 0.0779 - accuracy: 0.9706 - val_loss: 0.5027 - val_accuracy: 0.8908\n",
      "Epoch 22/50\n",
      "1875/1875 [==============================] - 9s 5ms/step - loss: 0.0783 - accuracy: 0.9704 - val_loss: 0.4819 - val_accuracy: 0.8934\n",
      "Epoch 23/50\n",
      "1875/1875 [==============================] - 9s 5ms/step - loss: 0.0729 - accuracy: 0.9725 - val_loss: 0.5276 - val_accuracy: 0.8924\n",
      "Epoch 24/50\n",
      "1875/1875 [==============================] - 10s 5ms/step - loss: 0.0685 - accuracy: 0.9736 - val_loss: 0.5508 - val_accuracy: 0.8882\n",
      "Epoch 25/50\n",
      "1875/1875 [==============================] - 9s 5ms/step - loss: 0.0669 - accuracy: 0.9751 - val_loss: 0.5307 - val_accuracy: 0.8890\n",
      "Epoch 26/50\n",
      "1875/1875 [==============================] - 9s 5ms/step - loss: 0.0620 - accuracy: 0.9769 - val_loss: 0.5771 - val_accuracy: 0.8895\n",
      "Epoch 27/50\n",
      "1875/1875 [==============================] - 9s 5ms/step - loss: 0.0619 - accuracy: 0.9775 - val_loss: 0.5966 - val_accuracy: 0.8880\n",
      "Epoch 28/50\n",
      "1875/1875 [==============================] - 10s 5ms/step - loss: 0.0589 - accuracy: 0.9789 - val_loss: 0.6308 - val_accuracy: 0.8900\n",
      "Epoch 29/50\n",
      "1875/1875 [==============================] - 10s 5ms/step - loss: 0.0572 - accuracy: 0.9786 - val_loss: 0.6726 - val_accuracy: 0.8919\n",
      "Epoch 30/50\n",
      "1875/1875 [==============================] - 10s 5ms/step - loss: 0.0578 - accuracy: 0.9786 - val_loss: 0.6274 - val_accuracy: 0.8917\n",
      "Epoch 31/50\n",
      "1875/1875 [==============================] - 10s 6ms/step - loss: 0.0492 - accuracy: 0.9820 - val_loss: 0.6655 - val_accuracy: 0.8912\n",
      "Epoch 32/50\n",
      "1875/1875 [==============================] - 12s 6ms/step - loss: 0.0567 - accuracy: 0.9791 - val_loss: 0.6871 - val_accuracy: 0.8894\n",
      "Epoch 33/50\n",
      "1875/1875 [==============================] - 11s 6ms/step - loss: 0.0500 - accuracy: 0.9817 - val_loss: 0.7014 - val_accuracy: 0.8864\n",
      "Epoch 34/50\n",
      "1875/1875 [==============================] - 11s 6ms/step - loss: 0.0513 - accuracy: 0.9815 - val_loss: 0.6670 - val_accuracy: 0.8914\n",
      "Epoch 35/50\n",
      "1875/1875 [==============================] - 10s 5ms/step - loss: 0.0460 - accuracy: 0.9834 - val_loss: 0.6828 - val_accuracy: 0.8910\n",
      "Epoch 36/50\n",
      "1875/1875 [==============================] - 10s 5ms/step - loss: 0.0458 - accuracy: 0.9836 - val_loss: 0.7242 - val_accuracy: 0.8872\n",
      "Epoch 37/50\n",
      "1875/1875 [==============================] - 10s 5ms/step - loss: 0.0449 - accuracy: 0.9834 - val_loss: 0.7714 - val_accuracy: 0.8886\n",
      "Epoch 38/50\n",
      "1875/1875 [==============================] - 10s 6ms/step - loss: 0.0480 - accuracy: 0.9828 - val_loss: 0.7231 - val_accuracy: 0.8912\n",
      "Epoch 39/50\n",
      "1875/1875 [==============================] - 10s 6ms/step - loss: 0.0450 - accuracy: 0.9840 - val_loss: 0.7277 - val_accuracy: 0.8941\n",
      "Epoch 40/50\n",
      "1875/1875 [==============================] - 10s 5ms/step - loss: 0.0402 - accuracy: 0.9860 - val_loss: 0.7512 - val_accuracy: 0.8938\n",
      "Epoch 41/50\n",
      "1875/1875 [==============================] - 10s 5ms/step - loss: 0.0440 - accuracy: 0.9845 - val_loss: 0.7695 - val_accuracy: 0.8823\n",
      "Epoch 42/50\n",
      "1875/1875 [==============================] - 10s 5ms/step - loss: 0.0381 - accuracy: 0.9862 - val_loss: 0.7944 - val_accuracy: 0.8879\n",
      "Epoch 43/50\n",
      "1875/1875 [==============================] - 11s 6ms/step - loss: 0.0395 - accuracy: 0.9863 - val_loss: 0.8160 - val_accuracy: 0.8876\n",
      "Epoch 44/50\n",
      "1875/1875 [==============================] - 11s 6ms/step - loss: 0.0405 - accuracy: 0.9858 - val_loss: 0.7658 - val_accuracy: 0.8908\n",
      "Epoch 45/50\n",
      "1875/1875 [==============================] - 11s 6ms/step - loss: 0.0393 - accuracy: 0.9867 - val_loss: 0.8867 - val_accuracy: 0.8851\n",
      "Epoch 46/50\n",
      "1875/1875 [==============================] - 11s 6ms/step - loss: 0.0413 - accuracy: 0.9863 - val_loss: 0.8308 - val_accuracy: 0.8888\n",
      "Epoch 47/50\n",
      "1875/1875 [==============================] - 11s 6ms/step - loss: 0.0388 - accuracy: 0.9862 - val_loss: 0.8653 - val_accuracy: 0.8914\n",
      "Epoch 48/50\n",
      "1875/1875 [==============================] - 12s 6ms/step - loss: 0.0331 - accuracy: 0.9885 - val_loss: 0.8537 - val_accuracy: 0.8844\n",
      "Epoch 49/50\n",
      "1875/1875 [==============================] - 12s 7ms/step - loss: 0.0396 - accuracy: 0.9860 - val_loss: 0.8271 - val_accuracy: 0.8907\n",
      "Epoch 50/50\n",
      "1875/1875 [==============================] - 11s 6ms/step - loss: 0.0351 - accuracy: 0.9878 - val_loss: 0.8415 - val_accuracy: 0.8930\n"
     ]
    }
   ],
   "source": [
    "history=model.fit(x_train,y_train,epochs=50,batch_size = 32,validation_data=(x_test, y_test))"
   ]
  },
  {
   "cell_type": "code",
   "execution_count": 12,
   "metadata": {},
   "outputs": [
    {
     "name": "stdout",
     "output_type": "stream",
     "text": [
      "> 89.300\n"
     ]
    }
   ],
   "source": [
    "_, acc = model.evaluate(x_test, y_test, verbose=0)\n",
    "print('> %.3f' % (acc * 100.0))"
   ]
  },
  {
   "cell_type": "code",
   "execution_count": 13,
   "metadata": {},
   "outputs": [
    {
     "name": "stdout",
     "output_type": "stream",
     "text": [
      "Saved model to disk\n"
     ]
    }
   ],
   "source": [
    "model_json = model.to_json()\n",
    "with open(\"model.json\", \"w\") as json_file:\n",
    "    json_file.write(model_json)\n",
    "# serialize weights to HDF5\n",
    "model.save_weights(\"model.h5\")\n",
    "print(\"Saved model to disk\")"
   ]
  },
  {
   "cell_type": "code",
   "execution_count": 14,
   "metadata": {},
   "outputs": [
    {
     "name": "stdout",
     "output_type": "stream",
     "text": [
      "Loaded model from disk\n"
     ]
    }
   ],
   "source": [
    "from tensorflow.keras.models import model_from_json\n",
    "json_file = open('model.json', 'r')\n",
    "loaded_model_json = json_file.read()\n",
    "json_file.close()\n",
    "loaded_model = model_from_json(loaded_model_json)\n",
    "# load weights into new model\n",
    "loaded_model.load_weights(\"model.h5\")\n",
    "print(\"Loaded model from disk\")"
   ]
  },
  {
   "cell_type": "code",
   "execution_count": 15,
   "metadata": {},
   "outputs": [
    {
     "name": "stdout",
     "output_type": "stream",
     "text": [
      "> 89.300\n"
     ]
    }
   ],
   "source": [
    "loaded_model.compile(optimizer = adam, loss='categorical_crossentropy',metrics = ['accuracy'])\n",
    "_, acc = loaded_model.evaluate(x_test, y_test, verbose=0)\n",
    "print('> %.3f' % (acc * 100.0))"
   ]
  },
  {
   "cell_type": "code",
   "execution_count": null,
   "metadata": {},
   "outputs": [],
   "source": []
  }
 ],
 "metadata": {
  "kernelspec": {
   "display_name": "Python 3",
   "language": "python",
   "name": "python3"
  },
  "language_info": {
   "codemirror_mode": {
    "name": "ipython",
    "version": 3
   },
   "file_extension": ".py",
   "mimetype": "text/x-python",
   "name": "python",
   "nbconvert_exporter": "python",
   "pygments_lexer": "ipython3",
   "version": "3.8.5"
  }
 },
 "nbformat": 4,
 "nbformat_minor": 4
}
